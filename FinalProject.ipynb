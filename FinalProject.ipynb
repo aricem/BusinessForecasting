{
  "nbformat": 4,
  "nbformat_minor": 0,
  "metadata": {
    "colab": {
      "name": "FinalProject.ipynb",
      "version": "0.3.2",
      "provenance": [],
      "collapsed_sections": [],
      "include_colab_link": true
    },
    "kernelspec": {
      "name": "python3",
      "display_name": "Python 3"
    }
  },
  "cells": [
    {
      "cell_type": "markdown",
      "metadata": {
        "id": "view-in-github",
        "colab_type": "text"
      },
      "source": [
        "<a href=\"https://colab.research.google.com/github/aricem/BusinessForecasting/blob/master/FinalProject.ipynb\" target=\"_parent\"><img src=\"https://colab.research.google.com/assets/colab-badge.svg\" alt=\"Open In Colab\"/></a>"
      ]
    },
    {
      "cell_type": "markdown",
      "metadata": {
        "id": "aGl7PX4KFlw-",
        "colab_type": "text"
      },
      "source": [
        "## Preperation\n",
        "\n",
        "Below code snippet helps us to connect Google Colab to our data in Google Drive."
      ]
    },
    {
      "cell_type": "code",
      "metadata": {
        "id": "QDTQDAiACW0P",
        "colab_type": "code",
        "colab": {}
      },
      "source": [
        "#!pip install statsmodels==0.10.0rc2 --pre"
      ],
      "execution_count": 0,
      "outputs": []
    },
    {
      "cell_type": "code",
      "metadata": {
        "id": "zxesYK9mawBJ",
        "colab_type": "code",
        "colab": {
          "base_uri": "https://localhost:8080/",
          "height": 208
        },
        "outputId": "cc072e25-4454-4c21-b429-8c59c1e7ec43"
      },
      "source": [
        "from google.colab import auth\n",
        "auth.authenticate_user()\n",
        "\n",
        "import gspread\n",
        "from oauth2client.client import GoogleCredentials\n",
        "\n",
        "gc = gspread.authorize(GoogleCredentials.get_application_default())\n",
        "\n",
        "sh = gc.open('FinalProject')\n",
        "worksheet = sh.worksheet(\"Sheet1\") # By title\n",
        "#worksheet = sh.sheet1 # By sheet order\n",
        "#worksheet = sh.get_worksheet(0) # Select worksheet by index\n",
        "\n",
        "# get_all_values gives a list of rows.\n",
        "rows = worksheet.get_all_values()\n",
        "\n",
        "# Convert to a DataFrame and render.\n",
        "import pandas as pd\n",
        "df = pd.DataFrame.from_records(rows)\n",
        "df.columns = df.iloc[0]\n",
        "df.drop(df.index[:1], inplace=True)\n",
        "#Convert data types\n",
        "df['Sales'] = pd.to_numeric(df['Sales'], errors='coerce')\n",
        "df['Aptitude'] = pd.to_numeric(df['Aptitude'], errors='coerce')\n",
        "df['Age'] = pd.to_numeric(df['Age'], errors='coerce')\n",
        "df['Anxiety'] = pd.to_numeric(df['Anxiety'], errors='coerce')\n",
        "df['Experience'] = pd.to_numeric(df['Experience'], errors='coerce')\n",
        "df['GPA'] = pd.to_numeric(df['GPA'], errors='coerce')\n",
        "df.info()"
      ],
      "execution_count": 2,
      "outputs": [
        {
          "output_type": "stream",
          "text": [
            "<class 'pandas.core.frame.DataFrame'>\n",
            "Int64Index: 30 entries, 1 to 30\n",
            "Data columns (total 6 columns):\n",
            "Sales         30 non-null int64\n",
            "Aptitude      30 non-null int64\n",
            "Age           30 non-null float64\n",
            "Anxiety       30 non-null float64\n",
            "Experience    30 non-null int64\n",
            "GPA           30 non-null float64\n",
            "dtypes: float64(3), int64(3)\n",
            "memory usage: 1.6 KB\n"
          ],
          "name": "stdout"
        }
      ]
    },
    {
      "cell_type": "markdown",
      "metadata": {
        "id": "XyD6OKbNtwxB",
        "colab_type": "text"
      },
      "source": [
        "## Multivariate Regression Analysis\n",
        "\n",
        "In this study i am going to develop the best multiple regression equation to forecast whether a particular applicant will become a good salesperson. The data [Reference#1, p288] is from a pharma company. I use the first month's sales as the dependent variable ($Y$), and choose to analyze the following independent variables:\n",
        "\n",
        "* $X_1$: selling aptitude test\n",
        "* $X_2$: age, in years\n",
        "* $X_3$: anxiety test score\n",
        "* $X_4$: experience, in years\n",
        "* $X_5$: high school GPA\n",
        "\n",
        "These independent variables are used in the prediction of the dependent variable of **Sales**  ($Y$). The formula (*which is not the best one yet*) will be\n",
        "\n",
        "$$ \\hat{Y} = b_0 + b_1 X_1 + b_2 X_2 + b_3 X_3 + b_4 X_4 + b_5 X_5 $$\n",
        "\n",
        "\n",
        "Below is the first five rows of the data frame."
      ]
    },
    {
      "cell_type": "code",
      "metadata": {
        "id": "3F9PYdXJt96n",
        "colab_type": "code",
        "outputId": "6e7b0a49-5f13-4e01-9f97-a8199719647d",
        "colab": {
          "base_uri": "https://localhost:8080/",
          "height": 206
        }
      },
      "source": [
        "df.head()"
      ],
      "execution_count": 3,
      "outputs": [
        {
          "output_type": "execute_result",
          "data": {
            "text/html": [
              "<div>\n",
              "<style scoped>\n",
              "    .dataframe tbody tr th:only-of-type {\n",
              "        vertical-align: middle;\n",
              "    }\n",
              "\n",
              "    .dataframe tbody tr th {\n",
              "        vertical-align: top;\n",
              "    }\n",
              "\n",
              "    .dataframe thead th {\n",
              "        text-align: right;\n",
              "    }\n",
              "</style>\n",
              "<table border=\"1\" class=\"dataframe\">\n",
              "  <thead>\n",
              "    <tr style=\"text-align: right;\">\n",
              "      <th></th>\n",
              "      <th>Sales</th>\n",
              "      <th>Aptitude</th>\n",
              "      <th>Age</th>\n",
              "      <th>Anxiety</th>\n",
              "      <th>Experience</th>\n",
              "      <th>GPA</th>\n",
              "    </tr>\n",
              "  </thead>\n",
              "  <tbody>\n",
              "    <tr>\n",
              "      <th>1</th>\n",
              "      <td>44</td>\n",
              "      <td>10</td>\n",
              "      <td>22.1</td>\n",
              "      <td>4.9</td>\n",
              "      <td>0</td>\n",
              "      <td>2.4</td>\n",
              "    </tr>\n",
              "    <tr>\n",
              "      <th>2</th>\n",
              "      <td>47</td>\n",
              "      <td>19</td>\n",
              "      <td>22.5</td>\n",
              "      <td>3.0</td>\n",
              "      <td>1</td>\n",
              "      <td>2.6</td>\n",
              "    </tr>\n",
              "    <tr>\n",
              "      <th>3</th>\n",
              "      <td>60</td>\n",
              "      <td>27</td>\n",
              "      <td>23.1</td>\n",
              "      <td>1.5</td>\n",
              "      <td>0</td>\n",
              "      <td>2.8</td>\n",
              "    </tr>\n",
              "    <tr>\n",
              "      <th>4</th>\n",
              "      <td>71</td>\n",
              "      <td>31</td>\n",
              "      <td>24.0</td>\n",
              "      <td>0.6</td>\n",
              "      <td>3</td>\n",
              "      <td>2.7</td>\n",
              "    </tr>\n",
              "    <tr>\n",
              "      <th>5</th>\n",
              "      <td>61</td>\n",
              "      <td>64</td>\n",
              "      <td>22.6</td>\n",
              "      <td>1.8</td>\n",
              "      <td>2</td>\n",
              "      <td>2.0</td>\n",
              "    </tr>\n",
              "  </tbody>\n",
              "</table>\n",
              "</div>"
            ],
            "text/plain": [
              "0  Sales  Aptitude   Age  Anxiety  Experience  GPA\n",
              "1     44        10  22.1      4.9           0  2.4\n",
              "2     47        19  22.5      3.0           1  2.6\n",
              "3     60        27  23.1      1.5           0  2.8\n",
              "4     71        31  24.0      0.6           3  2.7\n",
              "5     61        64  22.6      1.8           2  2.0"
            ]
          },
          "metadata": {
            "tags": []
          },
          "execution_count": 3
        }
      ]
    },
    {
      "cell_type": "markdown",
      "metadata": {
        "id": "dDwDC9DbXWxB",
        "colab_type": "text"
      },
      "source": [
        "### Scatter plots\n",
        "\n",
        "Scatter plots of dependent and independent variables."
      ]
    },
    {
      "cell_type": "code",
      "metadata": {
        "id": "6hc9Bi7C7_-7",
        "colab_type": "code",
        "outputId": "589b04b3-3470-414c-fccb-c487cc44753c",
        "colab": {
          "base_uri": "https://localhost:8080/",
          "height": 297
        }
      },
      "source": [
        "import matplotlib.pyplot as plt\n",
        "\n",
        "plt.subplot(2,3,1)\n",
        "plt.scatter(df.Aptitude, df.Sales)\n",
        "plt.xlabel(\"Aptitude\")\n",
        "plt.ylabel(\"Sales\")\n",
        "\n",
        "plt.subplot(2,3,2)\n",
        "plt.scatter(df.Age, df.Sales)\n",
        "plt.xlabel(\"Age\")\n",
        "plt.ylabel(\"Sales\")\n",
        "\n",
        "plt.subplot(2,3,3)\n",
        "plt.scatter(df.Anxiety, df.Sales)\n",
        "plt.xlabel(\"Anxiety\")\n",
        "plt.ylabel(\"Sales\")\n",
        "\n",
        "plt.subplot(2,3,4)\n",
        "plt.scatter(df.Experience, df.Sales)\n",
        "plt.xlabel(\"Experience\")\n",
        "plt.ylabel(\"Sales\")\n",
        "\n",
        "plt.subplot(2,3,5)\n",
        "plt.scatter(df.GPA, df.Sales)\n",
        "plt.xlabel(\"GPA\")\n",
        "plt.ylabel(\"Sales\")\n",
        "\n",
        "plt.tight_layout()\n",
        "plt.show()"
      ],
      "execution_count": 4,
      "outputs": [
        {
          "output_type": "display_data",
          "data": {
            "image/png": "[encoded data removed]",
            "text/plain": [
              "<Figure size 432x288 with 5 Axes>"
            ]
          },
          "metadata": {
            "tags": []
          }
        }
      ]
    },
    {
      "cell_type": "markdown",
      "metadata": {
        "id": "shumOJGDyoji",
        "colab_type": "text"
      },
      "source": [
        "### Multicollinearity\n",
        "\n",
        "Below is the correlation matrix to check if there is multicollinearity problem. This matrix will provide essential knowledge about the basic relationships among the variables."
      ]
    },
    {
      "cell_type": "code",
      "metadata": {
        "id": "rUBmRGcJuZv4",
        "colab_type": "code",
        "colab": {
          "base_uri": "https://localhost:8080/",
          "height": 269
        },
        "outputId": "70e6ca3d-b535-49ed-d0f0-8f0277e1a067"
      },
      "source": [
        "df.corr()"
      ],
      "execution_count": 5,
      "outputs": [
        {
          "output_type": "execute_result",
          "data": {
            "text/html": [
              "<div>\n",
              "<style scoped>\n",
              "    .dataframe tbody tr th:only-of-type {\n",
              "        vertical-align: middle;\n",
              "    }\n",
              "\n",
              "    .dataframe tbody tr th {\n",
              "        vertical-align: top;\n",
              "    }\n",
              "\n",
              "    .dataframe thead th {\n",
              "        text-align: right;\n",
              "    }\n",
              "</style>\n",
              "<table border=\"1\" class=\"dataframe\">\n",
              "  <thead>\n",
              "    <tr style=\"text-align: right;\">\n",
              "      <th></th>\n",
              "      <th>Sales</th>\n",
              "      <th>Aptitude</th>\n",
              "      <th>Age</th>\n",
              "      <th>Anxiety</th>\n",
              "      <th>Experience</th>\n",
              "      <th>GPA</th>\n",
              "    </tr>\n",
              "    <tr>\n",
              "      <th>0</th>\n",
              "      <th></th>\n",
              "      <th></th>\n",
              "      <th></th>\n",
              "      <th></th>\n",
              "      <th></th>\n",
              "      <th></th>\n",
              "    </tr>\n",
              "  </thead>\n",
              "  <tbody>\n",
              "    <tr>\n",
              "      <th>Sales</th>\n",
              "      <td>1.000000</td>\n",
              "      <td>0.676120</td>\n",
              "      <td>0.798141</td>\n",
              "      <td>-0.295860</td>\n",
              "      <td>0.549834</td>\n",
              "      <td>0.621784</td>\n",
              "    </tr>\n",
              "    <tr>\n",
              "      <th>Aptitude</th>\n",
              "      <td>0.676120</td>\n",
              "      <td>1.000000</td>\n",
              "      <td>0.227706</td>\n",
              "      <td>-0.221988</td>\n",
              "      <td>0.349639</td>\n",
              "      <td>0.317772</td>\n",
              "    </tr>\n",
              "    <tr>\n",
              "      <th>Age</th>\n",
              "      <td>0.798141</td>\n",
              "      <td>0.227706</td>\n",
              "      <td>1.000000</td>\n",
              "      <td>-0.286794</td>\n",
              "      <td>0.539568</td>\n",
              "      <td>0.694569</td>\n",
              "    </tr>\n",
              "    <tr>\n",
              "      <th>Anxiety</th>\n",
              "      <td>-0.295860</td>\n",
              "      <td>-0.221988</td>\n",
              "      <td>-0.286794</td>\n",
              "      <td>1.000000</td>\n",
              "      <td>-0.278689</td>\n",
              "      <td>-0.244382</td>\n",
              "    </tr>\n",
              "    <tr>\n",
              "      <th>Experience</th>\n",
              "      <td>0.549834</td>\n",
              "      <td>0.349639</td>\n",
              "      <td>0.539568</td>\n",
              "      <td>-0.278689</td>\n",
              "      <td>1.000000</td>\n",
              "      <td>0.312129</td>\n",
              "    </tr>\n",
              "    <tr>\n",
              "      <th>GPA</th>\n",
              "      <td>0.621784</td>\n",
              "      <td>0.317772</td>\n",
              "      <td>0.694569</td>\n",
              "      <td>-0.244382</td>\n",
              "      <td>0.312129</td>\n",
              "      <td>1.000000</td>\n",
              "    </tr>\n",
              "  </tbody>\n",
              "</table>\n",
              "</div>"
            ],
            "text/plain": [
              "0              Sales  Aptitude       Age   Anxiety  Experience       GPA\n",
              "0                                                                       \n",
              "Sales       1.000000  0.676120  0.798141 -0.295860    0.549834  0.621784\n",
              "Aptitude    0.676120  1.000000  0.227706 -0.221988    0.349639  0.317772\n",
              "Age         0.798141  0.227706  1.000000 -0.286794    0.539568  0.694569\n",
              "Anxiety    -0.295860 -0.221988 -0.286794  1.000000   -0.278689 -0.244382\n",
              "Experience  0.549834  0.349639  0.539568 -0.278689    1.000000  0.312129\n",
              "GPA         0.621784  0.317772  0.694569 -0.244382    0.312129  1.000000"
            ]
          },
          "metadata": {
            "tags": []
          },
          "execution_count": 5
        }
      ]
    },
    {
      "cell_type": "markdown",
      "metadata": {
        "id": "ymoqo5u02Kuy",
        "colab_type": "text"
      },
      "source": [
        "In order to visualize the correlation matrix we can add some colormaps."
      ]
    },
    {
      "cell_type": "code",
      "metadata": {
        "id": "j6s1viQsx8dN",
        "colab_type": "code",
        "colab": {
          "base_uri": "https://localhost:8080/",
          "height": 190
        },
        "outputId": "85e38fd1-b566-425c-ac84-f6fb1b793049"
      },
      "source": [
        "corr = df.corr()\n",
        "corr.style.background_gradient(cmap='coolwarm')\n",
        "# 'coolwarm', 'RdBu_r' and 'BrBG' are other good diverging colormaps\n"
      ],
      "execution_count": 6,
      "outputs": [
        {
          "output_type": "execute_result",
          "data": {
            "text/html": [
              "<style  type=\"text/css\" >\n",
              "    #T_e68d47dc_9915_11e9_ae35_0242ac1c0002row0_col0 {\n",
              "            background-color:  #b40426;\n",
              "            color:  #f1f1f1;\n",
              "        }    #T_e68d47dc_9915_11e9_ae35_0242ac1c0002row0_col1 {\n",
              "            background-color:  #f59f80;\n",
              "            color:  #000000;\n",
              "        }    #T_e68d47dc_9915_11e9_ae35_0242ac1c0002row0_col2 {\n",
              "            background-color:  #e57058;\n",
              "            color:  #000000;\n",
              "        }    #T_e68d47dc_9915_11e9_ae35_0242ac1c0002row0_col3 {\n",
              "            background-color:  #3b4cc0;\n",
              "            color:  #f1f1f1;\n",
              "        }    #T_e68d47dc_9915_11e9_ae35_0242ac1c0002row0_col4 {\n",
              "            background-color:  #f6bea4;\n",
              "            color:  #000000;\n",
              "        }    #T_e68d47dc_9915_11e9_ae35_0242ac1c0002row0_col5 {\n",
              "            background-color:  #f7ad90;\n",
              "            color:  #000000;\n",
              "        }    #T_e68d47dc_9915_11e9_ae35_0242ac1c0002row1_col0 {\n",
              "            background-color:  #f4987a;\n",
              "            color:  #000000;\n",
              "        }    #T_e68d47dc_9915_11e9_ae35_0242ac1c0002row1_col1 {\n",
              "            background-color:  #b40426;\n",
              "            color:  #f1f1f1;\n",
              "        }    #T_e68d47dc_9915_11e9_ae35_0242ac1c0002row1_col2 {\n",
              "            background-color:  #c0d4f5;\n",
              "            color:  #000000;\n",
              "        }    #T_e68d47dc_9915_11e9_ae35_0242ac1c0002row1_col3 {\n",
              "            background-color:  #4b64d5;\n",
              "            color:  #f1f1f1;\n",
              "        }    #T_e68d47dc_9915_11e9_ae35_0242ac1c0002row1_col4 {\n",
              "            background-color:  #dadce0;\n",
              "            color:  #000000;\n",
              "        }    #T_e68d47dc_9915_11e9_ae35_0242ac1c0002row1_col5 {\n",
              "            background-color:  #cfdaea;\n",
              "            color:  #000000;\n",
              "        }    #T_e68d47dc_9915_11e9_ae35_0242ac1c0002row2_col0 {\n",
              "            background-color:  #e46e56;\n",
              "            color:  #000000;\n",
              "        }    #T_e68d47dc_9915_11e9_ae35_0242ac1c0002row2_col1 {\n",
              "            background-color:  #b6cefa;\n",
              "            color:  #000000;\n",
              "        }    #T_e68d47dc_9915_11e9_ae35_0242ac1c0002row2_col2 {\n",
              "            background-color:  #b40426;\n",
              "            color:  #f1f1f1;\n",
              "        }    #T_e68d47dc_9915_11e9_ae35_0242ac1c0002row2_col3 {\n",
              "            background-color:  #3c4ec2;\n",
              "            color:  #f1f1f1;\n",
              "        }    #T_e68d47dc_9915_11e9_ae35_0242ac1c0002row2_col4 {\n",
              "            background-color:  #f5c0a7;\n",
              "            color:  #000000;\n",
              "        }    #T_e68d47dc_9915_11e9_ae35_0242ac1c0002row2_col5 {\n",
              "            background-color:  #f39778;\n",
              "            color:  #000000;\n",
              "        }    #T_e68d47dc_9915_11e9_ae35_0242ac1c0002row3_col0 {\n",
              "            background-color:  #3b4cc0;\n",
              "            color:  #f1f1f1;\n",
              "        }    #T_e68d47dc_9915_11e9_ae35_0242ac1c0002row3_col1 {\n",
              "            background-color:  #3b4cc0;\n",
              "            color:  #f1f1f1;\n",
              "        }    #T_e68d47dc_9915_11e9_ae35_0242ac1c0002row3_col2 {\n",
              "            background-color:  #3b4cc0;\n",
              "            color:  #f1f1f1;\n",
              "        }    #T_e68d47dc_9915_11e9_ae35_0242ac1c0002row3_col3 {\n",
              "            background-color:  #b40426;\n",
              "            color:  #f1f1f1;\n",
              "        }    #T_e68d47dc_9915_11e9_ae35_0242ac1c0002row3_col4 {\n",
              "            background-color:  #3b4cc0;\n",
              "            color:  #f1f1f1;\n",
              "        }    #T_e68d47dc_9915_11e9_ae35_0242ac1c0002row3_col5 {\n",
              "            background-color:  #3b4cc0;\n",
              "            color:  #f1f1f1;\n",
              "        }    #T_e68d47dc_9915_11e9_ae35_0242ac1c0002row4_col0 {\n",
              "            background-color:  #f7bca1;\n",
              "            color:  #000000;\n",
              "        }    #T_e68d47dc_9915_11e9_ae35_0242ac1c0002row4_col1 {\n",
              "            background-color:  #d4dbe6;\n",
              "            color:  #000000;\n",
              "        }    #T_e68d47dc_9915_11e9_ae35_0242ac1c0002row4_col2 {\n",
              "            background-color:  #f6bfa6;\n",
              "            color:  #000000;\n",
              "        }    #T_e68d47dc_9915_11e9_ae35_0242ac1c0002row4_col3 {\n",
              "            background-color:  #3e51c5;\n",
              "            color:  #f1f1f1;\n",
              "        }    #T_e68d47dc_9915_11e9_ae35_0242ac1c0002row4_col4 {\n",
              "            background-color:  #b40426;\n",
              "            color:  #f1f1f1;\n",
              "        }    #T_e68d47dc_9915_11e9_ae35_0242ac1c0002row4_col5 {\n",
              "            background-color:  #cedaeb;\n",
              "            color:  #000000;\n",
              "        }    #T_e68d47dc_9915_11e9_ae35_0242ac1c0002row5_col0 {\n",
              "            background-color:  #f7a98b;\n",
              "            color:  #000000;\n",
              "        }    #T_e68d47dc_9915_11e9_ae35_0242ac1c0002row5_col1 {\n",
              "            background-color:  #cdd9ec;\n",
              "            color:  #000000;\n",
              "        }    #T_e68d47dc_9915_11e9_ae35_0242ac1c0002row5_col2 {\n",
              "            background-color:  #f39475;\n",
              "            color:  #000000;\n",
              "        }    #T_e68d47dc_9915_11e9_ae35_0242ac1c0002row5_col3 {\n",
              "            background-color:  #465ecf;\n",
              "            color:  #f1f1f1;\n",
              "        }    #T_e68d47dc_9915_11e9_ae35_0242ac1c0002row5_col4 {\n",
              "            background-color:  #d3dbe7;\n",
              "            color:  #000000;\n",
              "        }    #T_e68d47dc_9915_11e9_ae35_0242ac1c0002row5_col5 {\n",
              "            background-color:  #b40426;\n",
              "            color:  #f1f1f1;\n",
              "        }</style><table id=\"T_e68d47dc_9915_11e9_ae35_0242ac1c0002\" ><thead>    <tr>        <th class=\"index_name level0\" >0</th>        <th class=\"col_heading level0 col0\" >Sales</th>        <th class=\"col_heading level0 col1\" >Aptitude</th>        <th class=\"col_heading level0 col2\" >Age</th>        <th class=\"col_heading level0 col3\" >Anxiety</th>        <th class=\"col_heading level0 col4\" >Experience</th>        <th class=\"col_heading level0 col5\" >GPA</th>    </tr>    <tr>        <th class=\"index_name level0\" >0</th>        <th class=\"blank\" ></th>        <th class=\"blank\" ></th>        <th class=\"blank\" ></th>        <th class=\"blank\" ></th>        <th class=\"blank\" ></th>        <th class=\"blank\" ></th>    </tr></thead><tbody>\n",
              "                <tr>\n",
              "                        <th id=\"T_e68d47dc_9915_11e9_ae35_0242ac1c0002level0_row0\" class=\"row_heading level0 row0\" >Sales</th>\n",
              "                        <td id=\"T_e68d47dc_9915_11e9_ae35_0242ac1c0002row0_col0\" class=\"data row0 col0\" >1</td>\n",
              "                        <td id=\"T_e68d47dc_9915_11e9_ae35_0242ac1c0002row0_col1\" class=\"data row0 col1\" >0.67612</td>\n",
              "                        <td id=\"T_e68d47dc_9915_11e9_ae35_0242ac1c0002row0_col2\" class=\"data row0 col2\" >0.798141</td>\n",
              "                        <td id=\"T_e68d47dc_9915_11e9_ae35_0242ac1c0002row0_col3\" class=\"data row0 col3\" >-0.29586</td>\n",
              "                        <td id=\"T_e68d47dc_9915_11e9_ae35_0242ac1c0002row0_col4\" class=\"data row0 col4\" >0.549834</td>\n",
              "                        <td id=\"T_e68d47dc_9915_11e9_ae35_0242ac1c0002row0_col5\" class=\"data row0 col5\" >0.621784</td>\n",
              "            </tr>\n",
              "            <tr>\n",
              "                        <th id=\"T_e68d47dc_9915_11e9_ae35_0242ac1c0002level0_row1\" class=\"row_heading level0 row1\" >Aptitude</th>\n",
              "                        <td id=\"T_e68d47dc_9915_11e9_ae35_0242ac1c0002row1_col0\" class=\"data row1 col0\" >0.67612</td>\n",
              "                        <td id=\"T_e68d47dc_9915_11e9_ae35_0242ac1c0002row1_col1\" class=\"data row1 col1\" >1</td>\n",
              "                        <td id=\"T_e68d47dc_9915_11e9_ae35_0242ac1c0002row1_col2\" class=\"data row1 col2\" >0.227706</td>\n",
              "                        <td id=\"T_e68d47dc_9915_11e9_ae35_0242ac1c0002row1_col3\" class=\"data row1 col3\" >-0.221988</td>\n",
              "                        <td id=\"T_e68d47dc_9915_11e9_ae35_0242ac1c0002row1_col4\" class=\"data row1 col4\" >0.349639</td>\n",
              "                        <td id=\"T_e68d47dc_9915_11e9_ae35_0242ac1c0002row1_col5\" class=\"data row1 col5\" >0.317772</td>\n",
              "            </tr>\n",
              "            <tr>\n",
              "                        <th id=\"T_e68d47dc_9915_11e9_ae35_0242ac1c0002level0_row2\" class=\"row_heading level0 row2\" >Age</th>\n",
              "                        <td id=\"T_e68d47dc_9915_11e9_ae35_0242ac1c0002row2_col0\" class=\"data row2 col0\" >0.798141</td>\n",
              "                        <td id=\"T_e68d47dc_9915_11e9_ae35_0242ac1c0002row2_col1\" class=\"data row2 col1\" >0.227706</td>\n",
              "                        <td id=\"T_e68d47dc_9915_11e9_ae35_0242ac1c0002row2_col2\" class=\"data row2 col2\" >1</td>\n",
              "                        <td id=\"T_e68d47dc_9915_11e9_ae35_0242ac1c0002row2_col3\" class=\"data row2 col3\" >-0.286794</td>\n",
              "                        <td id=\"T_e68d47dc_9915_11e9_ae35_0242ac1c0002row2_col4\" class=\"data row2 col4\" >0.539568</td>\n",
              "                        <td id=\"T_e68d47dc_9915_11e9_ae35_0242ac1c0002row2_col5\" class=\"data row2 col5\" >0.694569</td>\n",
              "            </tr>\n",
              "            <tr>\n",
              "                        <th id=\"T_e68d47dc_9915_11e9_ae35_0242ac1c0002level0_row3\" class=\"row_heading level0 row3\" >Anxiety</th>\n",
              "                        <td id=\"T_e68d47dc_9915_11e9_ae35_0242ac1c0002row3_col0\" class=\"data row3 col0\" >-0.29586</td>\n",
              "                        <td id=\"T_e68d47dc_9915_11e9_ae35_0242ac1c0002row3_col1\" class=\"data row3 col1\" >-0.221988</td>\n",
              "                        <td id=\"T_e68d47dc_9915_11e9_ae35_0242ac1c0002row3_col2\" class=\"data row3 col2\" >-0.286794</td>\n",
              "                        <td id=\"T_e68d47dc_9915_11e9_ae35_0242ac1c0002row3_col3\" class=\"data row3 col3\" >1</td>\n",
              "                        <td id=\"T_e68d47dc_9915_11e9_ae35_0242ac1c0002row3_col4\" class=\"data row3 col4\" >-0.278689</td>\n",
              "                        <td id=\"T_e68d47dc_9915_11e9_ae35_0242ac1c0002row3_col5\" class=\"data row3 col5\" >-0.244382</td>\n",
              "            </tr>\n",
              "            <tr>\n",
              "                        <th id=\"T_e68d47dc_9915_11e9_ae35_0242ac1c0002level0_row4\" class=\"row_heading level0 row4\" >Experience</th>\n",
              "                        <td id=\"T_e68d47dc_9915_11e9_ae35_0242ac1c0002row4_col0\" class=\"data row4 col0\" >0.549834</td>\n",
              "                        <td id=\"T_e68d47dc_9915_11e9_ae35_0242ac1c0002row4_col1\" class=\"data row4 col1\" >0.349639</td>\n",
              "                        <td id=\"T_e68d47dc_9915_11e9_ae35_0242ac1c0002row4_col2\" class=\"data row4 col2\" >0.539568</td>\n",
              "                        <td id=\"T_e68d47dc_9915_11e9_ae35_0242ac1c0002row4_col3\" class=\"data row4 col3\" >-0.278689</td>\n",
              "                        <td id=\"T_e68d47dc_9915_11e9_ae35_0242ac1c0002row4_col4\" class=\"data row4 col4\" >1</td>\n",
              "                        <td id=\"T_e68d47dc_9915_11e9_ae35_0242ac1c0002row4_col5\" class=\"data row4 col5\" >0.312129</td>\n",
              "            </tr>\n",
              "            <tr>\n",
              "                        <th id=\"T_e68d47dc_9915_11e9_ae35_0242ac1c0002level0_row5\" class=\"row_heading level0 row5\" >GPA</th>\n",
              "                        <td id=\"T_e68d47dc_9915_11e9_ae35_0242ac1c0002row5_col0\" class=\"data row5 col0\" >0.621784</td>\n",
              "                        <td id=\"T_e68d47dc_9915_11e9_ae35_0242ac1c0002row5_col1\" class=\"data row5 col1\" >0.317772</td>\n",
              "                        <td id=\"T_e68d47dc_9915_11e9_ae35_0242ac1c0002row5_col2\" class=\"data row5 col2\" >0.694569</td>\n",
              "                        <td id=\"T_e68d47dc_9915_11e9_ae35_0242ac1c0002row5_col3\" class=\"data row5 col3\" >-0.244382</td>\n",
              "                        <td id=\"T_e68d47dc_9915_11e9_ae35_0242ac1c0002row5_col4\" class=\"data row5 col4\" >0.312129</td>\n",
              "                        <td id=\"T_e68d47dc_9915_11e9_ae35_0242ac1c0002row5_col5\" class=\"data row5 col5\" >1</td>\n",
              "            </tr>\n",
              "    </tbody></table>"
            ],
            "text/plain": [
              "<pandas.io.formats.style.Styler at 0x7f0529ef5128>"
            ]
          },
          "metadata": {
            "tags": []
          },
          "execution_count": 6
        }
      ]
    },
    {
      "cell_type": "markdown",
      "metadata": {
        "id": "41NNfXHRJTpK",
        "colab_type": "text"
      },
      "source": [
        "From the correlation matrix it can be seen that selling aptitude test, age, experience and GPA are positively related to sakes ability and have potential as good predictor variables. The anxiety test score shows a low negative correlation with sales and it is probably not an important predictor.\n",
        "\n",
        "When we look at the correlation matrix, GPA-Age and Experience-Age are moderately correlated. It is the presence of these interrelationships that must be dealt with in attempting to find the best possible set of explanatory variables.\n",
        "\n",
        "There are two procedures to find the best possible set of explanatory variables:\n",
        "\n",
        "* All possible regressions\n",
        "* Stepwise regression"
      ]
    },
    {
      "cell_type": "markdown",
      "metadata": {
        "id": "HqpkZHYTLJ9s",
        "colab_type": "text"
      },
      "source": [
        "### All Possible Regressions\n",
        "\n",
        "Below is the analyzes of every possible combination of variables in order to select the best set of predictors.\n",
        "\n",
        "|  Independent Variables Used |  Number of Parameters |  Error Degrees of Freedom | $R^2$ |\n",
        "|-----------------------------|-----------------------|---------------------------|-------|\n",
        "| None | 1 | 29 | **.0000** |\n",
        "| $X_1$ | 2 | 28 | .4570 |\n",
        "| $X_2$ | 2 | 28 | **.6370** |\n",
        "| $X_3$ | 2 | 28 | .0880 |\n",
        "| $X_4$ | 2 | 28 | .3020 |\n",
        "| $X_5$ | 2 | 28 | .3870 |\n",
        "| $X_1,X_2$ | 3 | 27 | **.8948** |\n",
        "| $X_1,X_3$ | 3 | 27 | .4790 |\n",
        "| $X_1,X_4$ | 3 | 27 | .5690 |\n",
        "| $X_1,X_5$ | 3 | 27 | .6410 |\n",
        "| $X_2,X_3$ | 3 | 27 | .6420 |\n",
        "| $X_2,X_4$ | 3 | 27 | .6570 |\n",
        "| $X_2,X_5$ | 3 | 27 | .6460 |\n",
        "| $X_3,X_4$ | 3 | 27 | .3240 |\n",
        "| $X_3,X_5$ | 3 | 27 | .4090 |\n",
        "| $X_4,X_5$ | 3 | 27 | .5270 |\n",
        "| $X_1,X_2,X_3$ | 4 | 26 | .8951 |\n",
        "| $X_1,X_2,X_4$ | 4 | 26 | .8948 |\n",
        "| $X_1,X_2,X_5$ | 4 | 26 | **.8953** |\n",
        "| $X_2,X_3,X_4$ | 4 | 26 | .6590 |\n",
        "| $X_2,X_3,X_5$ | 4 | 26 | .6500 |\n",
        "| $X_2,X_4,X_5$ | 4 | 26 | .6690 |\n",
        "| $X_3,X_4,X_5$ | 4 | 26 | .5310 |\n",
        "| $X_1,X_2,X_3,X_4$ | 5 | 25 | .8951 |\n",
        "| $X_1,X_2,X_3,X_5$ | 5 | 25 | **.8955** |\n",
        "| $X_1,X_2,X_4,X_5$ | 5 | 25 | .8953 |\n",
        "| $X_1,X_3,X_4,X_5$ | 5 | 25 | .7010 |\n",
        "| $X_2,X_3,X_4,X_5$ | 5 | 25 | .6710 |\n",
        "| $X_1,X_2,X_3,X_4,X_5$ | 6 | 24 | **.8955** |\n",
        "\n",
        "We are going to select the best independent variable (or variables) for each parameter grouping. The equation with the highest $R^2$ is considered best.\n",
        "\n",
        "|  Number of Parameters |  Independent Variables |  Error Degrees of Freedom | R^2 |\n",
        "|-----------------------|------------------------|---------------------------|-------|\n",
        "| 1 | None | 29 | .0000 |\n",
        "| 2 | $X_2$ | 28 | .6370 |\n",
        "| 3 | $X_1,X_2$ | 27 | .8948 |\n",
        "| 4 | $X_1,X_2,X_5$ | 26 | .8953 |\n",
        "| 5 | $X_1,X_2,X_3,X_5$ | 25 | .8955 |\n",
        "| 6 | $X_1,X_2,X_3,X_4,X_5$ | 24 | .8955 |\n",
        "\n",
        "The last step is to find the best and simple equation among these variables. Therefore, the highest $R^2$ possible and the simple equation possible is provided by below equation, where $X_1$ is **Aptitude** and $X_2$ is **Age**\n",
        "\n",
        "$$ \\hat{Y} = b_0 + b_1 X_1 + b_2 X_2 $$\n",
        "\n",
        "and it explains 89.48% of the variation of $Y$.\n"
      ]
    },
    {
      "cell_type": "markdown",
      "metadata": {
        "id": "xjMc5X4LUmux",
        "colab_type": "text"
      },
      "source": [
        "### Stepwise Regressions\n",
        "\n",
        "The stepwise regression procedure adds one independent variable at a time to the model, one step at a time. F-statistic is used in stepwise regression to find significance.\n"
      ]
    },
    {
      "cell_type": "markdown",
      "metadata": {
        "id": "N0vh4ARMas6W",
        "colab_type": "text"
      },
      "source": [
        "### Solution\n",
        "\n",
        "By finding the best possible set of explanatory variables, we can start OLS to create model and predict coefficients."
      ]
    },
    {
      "cell_type": "code",
      "metadata": {
        "id": "FbZoAuxMuV8R",
        "colab_type": "code",
        "colab": {
          "base_uri": "https://localhost:8080/",
          "height": 558
        },
        "outputId": "af8d4ce8-3aca-4f03-a787-7dbe3f5a15a6"
      },
      "source": [
        "import statsmodels.api as sm\n",
        "\n",
        "X = df[['Aptitude','Age']]\n",
        "Y = df['Sales']\n",
        "\n",
        "X = sm.add_constant(X)\n",
        "\n",
        "model = sm.OLS(Y, X, missing='drop').fit()\n",
        "predictions = model.predict(X) \n",
        "\n",
        "print_model = model.summary()\n",
        "print(print_model)"
      ],
      "execution_count": 7,
      "outputs": [
        {
          "output_type": "stream",
          "text": [
            "                            OLS Regression Results                            \n",
            "==============================================================================\n",
            "Dep. Variable:                  Sales   R-squared:                       0.895\n",
            "Model:                            OLS   Adj. R-squared:                  0.887\n",
            "Method:                 Least Squares   F-statistic:                     114.8\n",
            "Date:                Thu, 27 Jun 2019   Prob (F-statistic):           6.27e-14\n",
            "Time:                        19:58:15   Log-Likelihood:                -80.669\n",
            "No. Observations:                  30   AIC:                             167.3\n",
            "Df Residuals:                      27   BIC:                             171.5\n",
            "Df Model:                           2                                         \n",
            "Covariance Type:            nonrobust                                         \n",
            "==============================================================================\n",
            "                 coef    std err          t      P>|t|      [0.025      0.975]\n",
            "------------------------------------------------------------------------------\n",
            "const        -86.7915     12.353     -7.026      0.000    -112.137     -61.446\n",
            "Aptitude       0.1997      0.025      8.134      0.000       0.149       0.250\n",
            "Age            5.9314      0.560     10.599      0.000       4.783       7.080\n",
            "==============================================================================\n",
            "Omnibus:                       11.259   Durbin-Watson:                   1.895\n",
            "Prob(Omnibus):                  0.004   Jarque-Bera (JB):               10.174\n",
            "Skew:                           1.205   Prob(JB):                      0.00618\n",
            "Kurtosis:                       4.527   Cond. No.                     1.04e+03\n",
            "==============================================================================\n",
            "\n",
            "Warnings:\n",
            "[1] Standard Errors assume that the covariance matrix of the errors is correctly specified.\n",
            "[2] The condition number is large, 1.04e+03. This might indicate that there are\n",
            "strong multicollinearity or other numerical problems.\n"
          ],
          "name": "stdout"
        },
        {
          "output_type": "stream",
          "text": [
            "/usr/local/lib/python3.6/dist-packages/numpy/core/fromnumeric.py:2389: FutureWarning: Method .ptp is deprecated and will be removed in a future version. Use numpy.ptp instead.\n",
            "  return ptp(axis=axis, out=out, **kwargs)\n"
          ],
          "name": "stderr"
        }
      ]
    },
    {
      "cell_type": "markdown",
      "metadata": {
        "id": "pSaCLuwWbL48",
        "colab_type": "text"
      },
      "source": [
        "The model is\n",
        "\n",
        "$$ \\hat{Y} = b_0 + b_1 X_1 + b_2 X_2 $$\n",
        "\n",
        "\n",
        "$$ \\text{Sales} = -86.7915 + 0.1997 \\text{(Aptitude)} + 5.9314 \\text{(Age)} $$\n",
        "\n",
        "The model explains 89.5% of the variation in sales."
      ]
    },
    {
      "cell_type": "markdown",
      "metadata": {
        "id": "1hEvciOeLecF",
        "colab_type": "text"
      },
      "source": [
        "## References\n",
        "\n",
        "1. Business Forecasting, Eighth Edition, John E. Hanke and Dean W. Wichern. ISBN 9780131228566, Pearson International Edition\n",
        "\n",
        "\n"
      ]
    }
  ]
}